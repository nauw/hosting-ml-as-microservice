{
 "cells": [
  {
   "cell_type": "markdown",
   "metadata": {
    "pycharm": {
     "name": "#%% md\n"
    }
   },
   "source": [
    "## Part 2: Training your own ML Model\n",
    "\n",
    "<a href=\"https://colab.research.google.com/github/peckjon/hosting-ml-as-microservice/blob/master/part2/train_sentiment_analysis.ipynb\" target=\"_parent\"><img src=\"https://colab.research.google.com/assets/colab-badge.svg\" alt=\"Open In Colab\"/></a>"
   ]
  },
  {
   "cell_type": "markdown",
   "metadata": {},
   "source": [
    "### Download corpuses\n",
    "\n",
    "We'll continue using the `movie_reviews` corpus to train our model. The `stopwords` corpus contains a [set of standard stopwords](https://gist.github.com/sebleier/554280) we'll want to remove from the input, and `punkt` is used for toneization in the [.words()](https://www.nltk.org/api/nltk.corpus.html#corpus-reader-functions) method of the corpus reader."
   ]
  },
  {
   "cell_type": "code",
   "execution_count": 1,
   "metadata": {
    "pycharm": {
     "name": "#%%\n"
    }
   },
   "outputs": [
    {
     "name": "stdout",
     "output_type": "stream",
     "text": [
      "[nltk_data] Downloading package movie_reviews to\n",
      "[nltk_data]     /Users/arnaudcharlier/nltk_data...\n",
      "[nltk_data]   Package movie_reviews is already up-to-date!\n",
      "[nltk_data] Downloading package punkt to\n",
      "[nltk_data]     /Users/arnaudcharlier/nltk_data...\n",
      "[nltk_data]   Package punkt is already up-to-date!\n",
      "[nltk_data] Downloading package stopwords to\n",
      "[nltk_data]     /Users/arnaudcharlier/nltk_data...\n",
      "[nltk_data]   Package stopwords is already up-to-date!\n"
     ]
    },
    {
     "data": {
      "text/plain": [
       "True"
      ]
     },
     "execution_count": 1,
     "metadata": {},
     "output_type": "execute_result"
    }
   ],
   "source": [
    "from nltk import download\n",
    "import nltk\n",
    "\n",
    "download('movie_reviews')\n",
    "download('punkt')\n",
    "download('stopwords')"
   ]
  },
  {
   "cell_type": "markdown",
   "metadata": {},
   "source": [
    "### Define feature extractor and bag-of-words converter\n",
    "\n",
    "Given a list of (already tokenized) words, we need a function to extract just the ones we care about: those not found in the list of English stopwords or standard punctuation.\n",
    "\n",
    "We also need a way to easily turn a list of words into a [bag-of-words](https://en.wikipedia.org/wiki/Bag-of-words_model), pairing each word with the count of its occurrences."
   ]
  },
  {
   "cell_type": "code",
   "execution_count": 2,
   "metadata": {},
   "outputs": [],
   "source": [
    "from nltk.corpus import stopwords\n",
    "from nltk.stem import SnowballStemmer\n",
    "from nltk.stem import WordNetLemmatizer\n",
    "from string import punctuation\n",
    "\n",
    "stopwords_eng = stopwords.words('english')\n",
    "manual_stopwords = [',', '.', '?', '/', '(', ')', \"'\", '*', '://', '-', '[', ']', '’', ':', '**', \"\\\\\", '\"',\n",
    "                    's', ';', \"like\", '0', '1', '2', '3', '4', '5', '6', '7', '8', '9', '&#', '!', '...', '=', 'e',\n",
    "                    'r', '&', ').', 'g', 'films','3000','secondly','bible','1960','german']\n",
    "\n",
    "def wordStemmer(wordrow):\n",
    "    stemmer = SnowballStemmer(\"english\")\n",
    "    stemmed = stemmer.stem(wordrow)\n",
    "    return stemmed\n",
    "\n",
    "def wordLemmer(wordrow):\n",
    "    lemmer = WordNetLemmatizer()\n",
    "    lemmed = lemmer.lemmatize(wordrow)\n",
    "    return lemmed\n",
    "\n",
    "def extract_features(words):\n",
    "    return [w for w in words if w not in stopwords_eng and w not in punctuation and w not in manual_stopwords]\n",
    "\n",
    "def bag_of_words(words):\n",
    "    bag = {}\n",
    "    for w in words:\n",
    "        ws = wordStemmer(w)\n",
    "        bag[ws] = bag.get(ws,0)+1\n",
    "    return bag"
   ]
  },
  {
   "cell_type": "markdown",
   "metadata": {},
   "source": [
    "### Ingest, clean, and convert the positive and negative reviews\n",
    "\n",
    "For both the positive (\"pos\") and negative (\"neg\") sets of reviews, extract the features and convert to bag of words. From these, we construct a list of tuples known as a \"featureset\": the first part of each tuple is the bag of words for that review, and the second is its label (\"pos\"/\"neg\").\n",
    "\n",
    "Note that `movie_reviews.words(fileid)` provides a tokenized list of words. If we wanted the un-tokenized text, we would use `movie_reviews.raw(fileid)` instead, then tokenize it using our preferred tokenizeer (e.g. [nltk.tokenize.word_tokenize](https://www.nltk.org/api/nltk.tokenize.html#nltk.tokenize.punkt.PunktLanguageVars.word_tokenize))."
   ]
  },
  {
   "cell_type": "code",
   "execution_count": 3,
   "metadata": {},
   "outputs": [],
   "source": [
    "from nltk.corpus import movie_reviews\n",
    "\n",
    "reviews_pos = []\n",
    "reviews_neg = []\n",
    "for fileid in movie_reviews.fileids('pos'):\n",
    "    words = extract_features(movie_reviews.words(fileid))\n",
    "    #freqDist = nltk.probability.FreqDist(words)\n",
    "    #print(freqDist.hapaxes())\n",
    "    reviews_pos.append((bag_of_words(words), 'pos'))\n",
    "for fileid in movie_reviews.fileids('neg'):\n",
    "    words = extract_features(movie_reviews.words(fileid))\n",
    "    #freqDist = nltk.probability.FreqDist(words)\n",
    "    #print(freqDist.hapaxes())\n",
    "    reviews_neg.append((bag_of_words(words), 'neg'))\n",
    "    \n",
    "    \n",
    "    \n"
   ]
  },
  {
   "cell_type": "markdown",
   "metadata": {},
   "source": [
    "### Split reviews into training and test sets\n",
    "We need to break up each group of reviews into a training set (about 80%) and a test set (the remaining 20%). In case there's some meaningful order to the reviews (e.g. the first 800 are from one group of reviewers, the next 200 are from another), we shuffle the sets first to ensure we aren't introducing additional bias. Note that this means our accuracy will not be exactly the same on every run; if you wish to see consistent results on each run, you can stabilize the shuffle by calling [random.seed(n)](https://www.geeksforgeeks.org/random-seed-in-python/) first."
   ]
  },
  {
   "cell_type": "code",
   "execution_count": 4,
   "metadata": {},
   "outputs": [],
   "source": [
    "from random import shuffle\n",
    "\n",
    "split_pct = .80\n",
    "\n",
    "def split_set(review_set):\n",
    "    split = int(len(review_set)*split_pct)\n",
    "    return (review_set[:split], review_set[split:])\n",
    "\n",
    "shuffle(reviews_pos)\n",
    "shuffle(reviews_neg)\n",
    "\n",
    "pos_train, pos_test = split_set(reviews_pos)\n",
    "neg_train, neg_test = split_set(reviews_neg)\n",
    "\n",
    "train_set = pos_train+neg_train\n",
    "test_set = pos_test+neg_test\n"
   ]
  },
  {
   "cell_type": "markdown",
   "metadata": {},
   "source": [
    "### Train the model\n",
    "\n",
    "Now that our data is ready, the training step itself is quite simple if we use the [NaiveBayesClassifier](https://www.nltk.org/api/nltk.classify.html#module-nltk.classify.naivebayes) provided by NLTK.\n",
    "\n",
    "If you are used to methods such as `model.fit(x,y)` which take two parameters -- the data and the labels -- it may be confusing that `NaiveBayesClassifier.train` takes just one argument. This is because the labels are already embedded in `train_set`: each element in the set is a Bag of Words paired with a 'pos' or 'neg'; value."
   ]
  },
  {
   "cell_type": "code",
   "execution_count": 5,
   "metadata": {},
   "outputs": [
    {
     "name": "stdout",
     "output_type": "stream",
     "text": [
      "Most Informative Features\n",
      "                    wast = 2                 neg : pos    =     16.3 : 1.0\n",
      "                   worst = 2                 neg : pos    =     13.8 : 1.0\n",
      "                  stupid = 2                 neg : pos    =     12.2 : 1.0\n",
      "                seamless = 1                 pos : neg    =     11.7 : 1.0\n",
      "                    plod = 1                 neg : pos    =     11.0 : 1.0\n",
      "                uninvolv = 1                 neg : pos    =     11.0 : 1.0\n",
      "                 excruci = 1                 neg : pos    =     11.0 : 1.0\n",
      "                 terribl = 2                 neg : pos    =     10.3 : 1.0\n",
      "                 entranc = 1                 pos : neg    =     10.3 : 1.0\n",
      "                     bad = 5                 neg : pos    =      9.7 : 1.0\n",
      "                wondrous = 1                 pos : neg    =      9.0 : 1.0\n",
      "                    chip = 1                 pos : neg    =      9.0 : 1.0\n",
      "                  misfir = 1                 neg : pos    =      9.0 : 1.0\n",
      "                 unwatch = 1                 neg : pos    =      9.0 : 1.0\n",
      "                   anger = 1                 pos : neg    =      8.7 : 1.0\n",
      "                 portman = 1                 pos : neg    =      8.3 : 1.0\n",
      "                 simplic = 1                 pos : neg    =      8.3 : 1.0\n",
      "                guardian = 1                 pos : neg    =      8.3 : 1.0\n",
      "                 loyalti = 1                 pos : neg    =      8.3 : 1.0\n",
      "                    taxi = 1                 pos : neg    =      8.3 : 1.0\n",
      "              lightheart = 1                 pos : neg    =      8.3 : 1.0\n",
      "                  cultur = 2                 pos : neg    =      8.3 : 1.0\n",
      "                magnific = 1                 pos : neg    =      8.2 : 1.0\n",
      "                outstand = 1                 pos : neg    =      7.9 : 1.0\n",
      "                 miscast = 1                 neg : pos    =      7.8 : 1.0\n",
      "                   guilt = 1                 pos : neg    =      7.8 : 1.0\n",
      "                  rehash = 1                 neg : pos    =      7.8 : 1.0\n",
      "                  drivel = 1                 neg : pos    =      7.7 : 1.0\n",
      "                    lore = 1                 pos : neg    =      7.7 : 1.0\n",
      "                 incoher = 1                 neg : pos    =      7.7 : 1.0\n",
      "                   divin = 1                 pos : neg    =      7.7 : 1.0\n",
      "                     ugh = 1                 neg : pos    =      7.7 : 1.0\n",
      "                 present = 3                 pos : neg    =      7.7 : 1.0\n",
      "                  suppos = 3                 neg : pos    =      7.7 : 1.0\n",
      "                 ideolog = 1                 pos : neg    =      7.7 : 1.0\n",
      "                  ludicr = 1                 neg : pos    =      7.4 : 1.0\n",
      "               breathtak = 1                 pos : neg    =      7.4 : 1.0\n",
      "                attorney = 1                 pos : neg    =      7.0 : 1.0\n",
      "                    tale = 2                 pos : neg    =      7.0 : 1.0\n",
      "                  system = 2                 pos : neg    =      7.0 : 1.0\n",
      "                  winter = 1                 pos : neg    =      7.0 : 1.0\n",
      "                   minut = 4                 neg : pos    =      7.0 : 1.0\n",
      "                  annual = 1                 pos : neg    =      7.0 : 1.0\n",
      "               atmospher = 2                 pos : neg    =      7.0 : 1.0\n",
      "                  depict = 2                 pos : neg    =      7.0 : 1.0\n",
      "                squander = 1                 neg : pos    =      7.0 : 1.0\n",
      "                   robbi = 1                 pos : neg    =      7.0 : 1.0\n",
      "                   poker = 1                 pos : neg    =      7.0 : 1.0\n",
      "                    lush = 1                 pos : neg    =      7.0 : 1.0\n",
      "                  predat = 1                 neg : pos    =      7.0 : 1.0\n",
      "                    sign = 2                 neg : pos    =      7.0 : 1.0\n",
      "                  poetic = 1                 pos : neg    =      7.0 : 1.0\n",
      "                  atroci = 1                 neg : pos    =      7.0 : 1.0\n",
      "                    deft = 1                 pos : neg    =      7.0 : 1.0\n",
      "                   naval = 1                 pos : neg    =      7.0 : 1.0\n",
      "                 predica = 1                 pos : neg    =      7.0 : 1.0\n",
      "                    best = 4                 pos : neg    =      6.6 : 1.0\n",
      "                 degener = 1                 neg : pos    =      6.6 : 1.0\n",
      "                  hilari = 2                 pos : neg    =      6.6 : 1.0\n",
      "                  embodi = 1                 pos : neg    =      6.6 : 1.0\n",
      "                    poor = 2                 neg : pos    =      6.6 : 1.0\n",
      "                     car = 3                 neg : pos    =      6.3 : 1.0\n",
      "             mcconaughey = 1                 pos : neg    =      6.3 : 1.0\n",
      "                    vega = 2                 pos : neg    =      6.3 : 1.0\n",
      "                  kenobi = 1                 pos : neg    =      6.3 : 1.0\n",
      "                challeng = 2                 pos : neg    =      6.3 : 1.0\n",
      "                    earl = 1                 pos : neg    =      6.3 : 1.0\n",
      "                angelina = 1                 neg : pos    =      6.3 : 1.0\n",
      "                   decad = 2                 pos : neg    =      6.3 : 1.0\n",
      "                  social = 2                 pos : neg    =      6.3 : 1.0\n",
      "                  soviet = 1                 pos : neg    =      6.3 : 1.0\n",
      "                  ballad = 1                 pos : neg    =      6.3 : 1.0\n",
      "                  crappi = 1                 neg : pos    =      6.3 : 1.0\n",
      "             spectacular = 2                 pos : neg    =      6.3 : 1.0\n",
      "                   feebl = 1                 neg : pos    =      6.3 : 1.0\n",
      "                  justin = 1                 neg : pos    =      6.3 : 1.0\n",
      "                 delight = 2                 pos : neg    =      6.3 : 1.0\n",
      "             documentari = 2                 pos : neg    =      6.3 : 1.0\n",
      "                  skimpi = 1                 neg : pos    =      6.3 : 1.0\n",
      "             overwrought = 1                 neg : pos    =      6.3 : 1.0\n",
      "                  shoddi = 1                 neg : pos    =      6.3 : 1.0\n",
      "                endeavor = 1                 pos : neg    =      6.3 : 1.0\n",
      "                  coward = 1                 pos : neg    =      6.3 : 1.0\n",
      "                   croni = 1                 pos : neg    =      6.3 : 1.0\n",
      "                 unexcit = 1                 neg : pos    =      6.3 : 1.0\n",
      "               behaviour = 1                 pos : neg    =      6.3 : 1.0\n",
      "               ineffectu = 1                 neg : pos    =      6.3 : 1.0\n",
      "                    noah = 1                 pos : neg    =      6.3 : 1.0\n",
      "                   dangl = 1                 neg : pos    =      6.3 : 1.0\n",
      "                   abysm = 1                 neg : pos    =      6.3 : 1.0\n",
      "                lifeless = 1                 neg : pos    =      6.3 : 1.0\n",
      "                   tripe = 1                 neg : pos    =      6.3 : 1.0\n",
      "                  seagal = 1                 neg : pos    =      6.3 : 1.0\n",
      "               telegraph = 1                 neg : pos    =      6.3 : 1.0\n",
      "                  finest = 1                 pos : neg    =      6.3 : 1.0\n",
      "                 insipid = 1                 neg : pos    =      6.2 : 1.0\n",
      "               testament = 1                 pos : neg    =      6.2 : 1.0\n",
      "               unconvinc = 1                 neg : pos    =      6.1 : 1.0\n",
      "                   idiot = 1                 neg : pos    =      5.8 : 1.0\n",
      "                 ridicul = 2                 neg : pos    =      5.8 : 1.0\n",
      "None\n"
     ]
    }
   ],
   "source": [
    "from nltk.classify import NaiveBayesClassifier\n",
    "\n",
    "model = NaiveBayesClassifier.train(train_set)\n",
    "print(model.show_most_informative_features(100))"
   ]
  },
  {
   "cell_type": "markdown",
   "metadata": {},
   "source": [
    "### Check model accuracy\n",
    "\n",
    "NLTK's built-in [accuracy](https://www.nltk.org/api/nltk.classify.html#module-nltk.classify.util) utility can run our test_set through the model and compare the labels returned by the model to the labels in the test set, producing an overall % accuracy. Not too impressive, right? We need to improve."
   ]
  },
  {
   "cell_type": "code",
   "execution_count": 6,
   "metadata": {},
   "outputs": [
    {
     "name": "stdout",
     "output_type": "stream",
     "text": [
      "66.75\n"
     ]
    }
   ],
   "source": [
    "from nltk.classify.util import accuracy\n",
    "\n",
    "print(100 * accuracy(model, test_set))"
   ]
  },
  {
   "cell_type": "markdown",
   "metadata": {},
   "source": [
    "### Save the model\n",
    "Our trained model will be cleared from memory when this notebook is closed. So that we can use it again later, save the model as a file using the [pickle](https://docs.python.org/3/library/pickle.html) serializer."
   ]
  },
  {
   "cell_type": "code",
   "execution_count": 7,
   "metadata": {
    "pycharm": {
     "name": "#%%\n"
    }
   },
   "outputs": [],
   "source": [
    "import pickle\n",
    "\n",
    "model_file = open('sa_classifier.pickle','wb')\n",
    "pickle.dump(model, model_file)\n",
    "model_file.close()"
   ]
  },
  {
   "cell_type": "markdown",
   "metadata": {},
   "source": [
    "### Save the model (Colab version)\n",
    "\n",
    "Google Colab doesn't provide direct access to files saved during a notebook session, so we need to save it in [Google Drive](https://drive.google.com) instead. The first time you run this, it will ask for permission to access your Google Drive. Follow the instructions, then wait a few minutes and look for a new folder called \"Colab Output\" in [Drive](https://drive.google.com). Note that Colab does not alway sync to Drive immediately, so check the file update times and re-run this cell if it doesn't look like you have the most revent version of your file."
   ]
  },
  {
   "cell_type": "code",
   "execution_count": 8,
   "metadata": {},
   "outputs": [],
   "source": [
    "import sys\n",
    "if 'google.colab' in sys.modules:\n",
    "    from google.colab import drive\n",
    "    drive.mount('/content/gdrive')\n",
    "    !mkdir -p '/content/gdrive/My Drive/Colab Output'\n",
    "    model_file = open('/content/gdrive/My Drive/Colab Output/sa_classifier.pickle','wb')\n",
    "    pickle.dump(model, model_file)\n",
    "    model_file.flush()\n",
    "    print('Model saved in /content/gdrive/My Drive/Colab Output')\n",
    "    !ls '/content/gdrive/My Drive/Colab Output'\n",
    "    drive.flush_and_unmount()\n",
    "    print('Re-run this cell if you cannot find it in https://drive.google.com')"
   ]
  },
  {
   "cell_type": "code",
   "execution_count": null,
   "metadata": {},
   "outputs": [],
   "source": []
  }
 ],
 "metadata": {
  "anaconda-cloud": {},
  "kernelspec": {
   "display_name": "Python 3",
   "language": "python",
   "name": "python3"
  },
  "language_info": {
   "codemirror_mode": {
    "name": "ipython",
    "version": 3
   },
   "file_extension": ".py",
   "mimetype": "text/x-python",
   "name": "python",
   "nbconvert_exporter": "python",
   "pygments_lexer": "ipython3",
   "version": "3.6.4"
  },
  "pycharm": {
   "stem_cell": {
    "cell_type": "raw",
    "metadata": {
     "collapsed": false
    },
    "source": []
   }
  }
 },
 "nbformat": 4,
 "nbformat_minor": 1
}
